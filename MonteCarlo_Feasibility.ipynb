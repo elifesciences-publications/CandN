{
 "cells": [
  {
   "cell_type": "code",
   "execution_count": 1,
   "metadata": {},
   "outputs": [],
   "source": [
    "import numpy as np\n",
    "import seaborn as sns\n",
    "import scipy.stats as stats\n",
    "import matplotlib.pyplot as plt\n",
    "from pandas import *\n",
    "from numpy.linalg import inv\n",
    "import random\n",
    "import statistics\n",
    "import time\n",
    "import pylab"
   ]
  },
  {
   "cell_type": "code",
   "execution_count": 2,
   "metadata": {},
   "outputs": [],
   "source": [
    "def printI(a):\n",
    "    for row in range(len(a)):\n",
    "        for col in range (len(a[row])):\n",
    "            print(\"{:3.0f}\".format(a[row][col]), end = \" \")\n",
    "        print()\n",
    "\n",
    "def printF(a):\n",
    "    for row in range(len(a)):\n",
    "        for col in range (len(a[row])):\n",
    "            print(\"{:8.5f}\".format(a[row][col]), end = \" \")\n",
    "        print()"
   ]
  },
  {
   "cell_type": "code",
   "execution_count": 3,
   "metadata": {
    "scrolled": false
   },
   "outputs": [],
   "source": [
    "#SeedForYield = 13\n",
    "#This cell produces all the Yield-Matrices (YM) Inverses(I) of the Yield Matrices\n",
    "        \n",
    "nC=6; nN=6; TotalStates=1211\n",
    "States = np.loadtxt('StateDataL6.dat')\n",
    "\n",
    "X = 0.1\n",
    "SeedForYield = 13 #chosen any number\n",
    "np.random.seed(SeedForYield)\n",
    "YieldC = np.random.uniform(X,1-X,nC*nN)\n",
    "YieldN = np.random.uniform(X,1-X,nC*nN)\n",
    "\n",
    "M = np.zeros(shape=(nC,nN))\n",
    "YM = np.zeros(shape=(TotalStates,nC+nN,nC+nN))\n",
    "I = np.zeros(shape=(TotalStates,nC+nN,nC+nN))\n",
    "\n",
    "for S in range(TotalStates):\n",
    "    #print(S,States[S,:])\n",
    "    for i in range(0,nC,1):\n",
    "        for j in range(0,nN,1):\n",
    "            M[i,j]=States[S,(i*nC)+j]\n",
    "    #printI(M)\n",
    "    \n",
    "    IDC=[]\n",
    "    IDN=[]\n",
    "    k=0\n",
    "    for i in range(0,nC,1):\n",
    "        for j in range(0,nN,1):\n",
    "            if(M[i,j] != 0):\n",
    "                IDC.append(i)\n",
    "                IDN.append(j)\n",
    "                k+=1\n",
    "                \n",
    "    #print(IDC)\n",
    "    #print(IDN)\n",
    "    \n",
    "    Y = np.zeros(shape=(nC+nN,nC+nN))\n",
    "    for i in range(0,len(IDC), 1):\n",
    "        Y[IDC[i],i] = 1/YieldC[nC*IDC[i] + IDN[i]]\n",
    "        Y[nN+IDN[i],i] = 1/YieldN[nC*IDC[i] + IDN[i]]\n",
    "        \n",
    "    w = len(IDC)\n",
    "    while (w < nC+nN):\n",
    "        for i in range(0,nC,1):\n",
    "            for j in range(0,nN,1):\n",
    "                if(M[i,j] == -1):\n",
    "                    break\n",
    "            if(M[i][j] != -1):\n",
    "                Y[i,w] = 1.0\n",
    "                w += 1\n",
    "            \n",
    "        for j in range(0,nN,1):\n",
    "            for i in range(0,nC,1):\n",
    "                if(M[i,j] == 1):\n",
    "                    break\n",
    "            if(M[i][j] != 1):\n",
    "                Y[nC+j,w] = 1.0\n",
    "                w += 1\n",
    "            \n",
    "    #print(\"Yield is\")\n",
    "    #printF(Y)\n",
    "    YM[S,:,:] = Y\n",
    "    I[S,:,:]=inv(Y)\n",
    "    #print(\"Inverse is\")\n",
    "    #printF(I[S,:,:])\n",
    "    #print(\"YM is\")\n",
    "    #printF(YM[S,:,:])"
   ]
  },
  {
   "cell_type": "code",
   "execution_count": 4,
   "metadata": {},
   "outputs": [
    {
     "name": "stdout",
     "output_type": "stream",
     "text": [
      "[0.72216193 0.29003298 0.75942283 0.87259936 0.87808089 0.4627594\n",
      " 0.58723397 0.72042121 0.61329068 0.67761458 0.12802922 0.33875958\n",
      " 0.14680999 0.78564875 0.39828322 0.64387836 0.30502396 0.37806497\n",
      " 0.10753022 0.38666703 0.85927535 0.27431921 0.35551309 0.83421791\n",
      " 0.12552293 0.15206763 0.6038632  0.79905075 0.10697259 0.69726179\n",
      " 0.75027294 0.16057396 0.62516427 0.50740976 0.48390671 0.86445932]\n",
      "[0.10000963 0.29758296 0.66978614 0.35966564 0.32159709 0.65635636\n",
      " 0.8348414  0.29558056 0.46646865 0.30239415 0.40346663 0.58363106\n",
      " 0.71790301 0.154334   0.64886806 0.53860808 0.21038884 0.17900258\n",
      " 0.29644728 0.22142933 0.84079558 0.64408401 0.29012714 0.5551082\n",
      " 0.54530564 0.15818977 0.77176681 0.42425559 0.21589679 0.25273605\n",
      " 0.49251211 0.6696195  0.88795077 0.7998292  0.49923335 0.185424  ]\n"
     ]
    }
   ],
   "source": [
    "print(YieldC)\n",
    "print(YieldN)"
   ]
  },
  {
   "cell_type": "code",
   "execution_count": 5,
   "metadata": {},
   "outputs": [
    {
     "data": {
      "text/plain": [
       "1.4876751633661305"
      ]
     },
     "execution_count": 5,
     "metadata": {},
     "output_type": "execute_result"
    }
   ],
   "source": [
    "RatioYield = YieldC/YieldN\n",
    "statistics.stdev(RatioYield)"
   ]
  },
  {
   "cell_type": "code",
   "execution_count": 6,
   "metadata": {},
   "outputs": [
    {
     "name": "stdout",
     "output_type": "stream",
     "text": [
      "[1440.  408.  272. ...  503.    2.   10.]\n",
      "--- 2427.2849667072296 seconds ---\n"
     ]
    }
   ],
   "source": [
    "#This cell chooses a random Phi and checks the feasibility of each state at that Phi and stores the feasible state\n",
    "#in the List StatePresenceData\n",
    "start_time = time.time()\n",
    "TotalPoints = 1000000\n",
    "PhiData = []\n",
    "StatePresenceData = []\n",
    "VolFromMonte = np.zeros(shape=TotalStates)    \n",
    "\n",
    "\n",
    "for PhiPoint in range(TotalPoints*SeedForYield, TotalPoints*(SeedForYield+1), 1):\n",
    "    #print(\"PhiPoint:\", PhiPoint)\n",
    "    q = []\n",
    "    np.random.seed(PhiPoint)#This contains the seed\n",
    "    \n",
    "    Phi = np.random.uniform(10,1000,nC+nN)\n",
    "\n",
    "    PhiData.append(Phi)\n",
    "    \n",
    "    #print(\"Phi:\", Phi)\n",
    "    for S in range(TotalStates):\n",
    "        X = np.matmul(I[S,], Phi)\n",
    "        for i in range(nC+nN):\n",
    "            if (X[i] < 0.0):\n",
    "                break\n",
    "        if (X[i] > 0.0):\n",
    "            #print(\"State\", S)\n",
    "            q += [S]\n",
    "            #Data[PhiPoint][nC+nN+S] = 1\n",
    "            VolFromMonte[S] += 1\n",
    "    StatePresenceData.append(q)\n",
    "#printF(Data)\n",
    "print(VolFromMonte)\n",
    "#print(StatePresenceData)\n",
    "print(\"--- %s seconds ---\" % (time.time() - start_time))"
   ]
  },
  {
   "cell_type": "code",
   "execution_count": 8,
   "metadata": {},
   "outputs": [
    {
     "data": {
      "text/plain": [
       "(1000000,)"
      ]
     },
     "execution_count": 8,
     "metadata": {},
     "output_type": "execute_result"
    }
   ],
   "source": [
    "np.shape(StatePresenceData)"
   ]
  },
  {
   "cell_type": "code",
   "execution_count": 9,
   "metadata": {},
   "outputs": [
    {
     "data": {
      "text/plain": [
       "(1000000, 12)"
      ]
     },
     "execution_count": 9,
     "metadata": {},
     "output_type": "execute_result"
    }
   ],
   "source": [
    "np.shape(PhiData)"
   ]
  },
  {
   "cell_type": "code",
   "execution_count": 13,
   "metadata": {},
   "outputs": [
    {
     "data": {
      "text/plain": [
       "array([968.99177874, 589.06408321, 766.98119002, 920.8469091 ,\n",
       "       882.46080513, 864.17941879, 424.17052118, 754.55299841,\n",
       "       234.67899639, 409.08292676, 688.56593935, 658.70138135])"
      ]
     },
     "execution_count": 13,
     "metadata": {},
     "output_type": "execute_result"
    }
   ],
   "source": [
    "PhiData[0]"
   ]
  },
  {
   "cell_type": "code",
   "execution_count": null,
   "metadata": {},
   "outputs": [],
   "source": []
  },
  {
   "cell_type": "code",
   "execution_count": null,
   "metadata": {},
   "outputs": [],
   "source": []
  },
  {
   "cell_type": "code",
   "execution_count": 10,
   "metadata": {},
   "outputs": [],
   "source": [
    "np.savetxt('StatePresenceData_Seed13_1MillionFlux.txt', StatePresenceData, delimiter=' ', fmt='%s')"
   ]
  },
  {
   "cell_type": "code",
   "execution_count": 11,
   "metadata": {},
   "outputs": [],
   "source": [
    "np.savetxt('PhiData_Seed13_1MillionFlux.txt', PhiData, delimiter=' ', fmt='%s')"
   ]
  }
 ],
 "metadata": {
  "kernelspec": {
   "display_name": "Python 3",
   "language": "python",
   "name": "python3"
  },
  "language_info": {
   "codemirror_mode": {
    "name": "ipython",
    "version": 3
   },
   "file_extension": ".py",
   "mimetype": "text/x-python",
   "name": "python",
   "nbconvert_exporter": "python",
   "pygments_lexer": "ipython3",
   "version": "3.5.2"
  }
 },
 "nbformat": 4,
 "nbformat_minor": 2
}
