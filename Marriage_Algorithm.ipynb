{
 "cells": [
  {
   "cell_type": "code",
   "execution_count": 1,
   "metadata": {},
   "outputs": [],
   "source": [
    "import numpy\n",
    "import numpy as np\n",
    "import seaborn as sns\n",
    "import scipy.stats as stats\n",
    "import matplotlib.pyplot as plt\n",
    "import pandas as pd\n",
    "from pandas import *\n",
    "from numpy.linalg import inv\n",
    "import pylab\n",
    "import statistics\n",
    "import time\n",
    "import math\n",
    "import heapq\n",
    "from itertools import product"
   ]
  },
  {
   "cell_type": "code",
   "execution_count": 10,
   "metadata": {},
   "outputs": [
    {
     "name": "stdout",
     "output_type": "stream",
     "text": [
      "LambdaC \n",
      " [47.439942 78.076943 93.739284 68.852708 75.039438 44.507408 89.623644\n",
      " 68.636672 33.620769 77.802027 16.541729 90.789064 56.466278 32.2335\n",
      " 86.155022 13.11149  71.136679 15.45079  52.995859 94.122363 38.712964\n",
      " 10.692837 33.953006 34.937361 24.985648 49.277027 76.260208 18.165961\n",
      " 54.457901 51.800125 47.087269 91.928874 57.677263 63.007896 92.243572\n",
      " 89.971499] \n",
      "LambdaN \n",
      " [18.27684  57.67302  44.515186 16.015801 70.403444 66.847124 56.747475\n",
      " 31.399699 78.597823 91.828731 34.543897 34.741616 42.333847 53.786563\n",
      " 84.786881 99.193363 78.984528 44.572794 95.298785 91.418777 73.107153\n",
      " 42.880481 98.797791 66.658908 76.247371 98.429524 30.987539 55.407063\n",
      " 14.507559 57.42359  37.568965 79.318409 58.357359 71.809543 26.049494\n",
      " 84.503559]\n"
     ]
    }
   ],
   "source": [
    "#Make modifications here\n",
    "#------------------------------------------------------------------------------------------\n",
    "nC=6; nN=6 #Choose\n",
    "RandomLambda = 0 #Choose\n",
    "#------------------------------------------------------------------------------------------\n",
    "\n",
    "if(RandomLambda == 0):#If Lambda is been supplied from a file\n",
    "    FileName = 'UIS_FromMarriageAlgo_PythonCode_L6.txt'   #--------------------------Change\n",
    "    Lambda = np.loadtxt('Lambda_1_6_6.txt')\n",
    "    LambdaC = Lambda[0,:]\n",
    "    LambdaN = Lambda[1,:]\n",
    "    print('LambdaC \\n', LambdaC, '\\nLambdaN \\n', LambdaN)\n",
    "else:\n",
    "    Seed = 13      # ----- Choose vale\n",
    "    FileName = 'UIS_FromMarriageAlgo_PythonCode_L6_Seed13.txt'   #-------------------Change\n",
    "    np.random.seed(Seed)\n",
    "    LambdaC = np.random.uniform(10,100,nC*nN)\n",
    "    LambdaN = np.random.uniform(10,100,nC*nN)\n",
    "    print('LambdaC \\n', LambdaC, '\\nLambdaN \\n', LambdaN)"
   ]
  },
  {
   "cell_type": "code",
   "execution_count": 11,
   "metadata": {
    "scrolled": true
   },
   "outputs": [
    {
     "data": {
      "text/plain": [
       "array([[[47.439942, 18.27684 ],\n",
       "        [78.076943, 57.67302 ],\n",
       "        [93.739284, 44.515186],\n",
       "        [68.852708, 16.015801],\n",
       "        [75.039438, 70.403444],\n",
       "        [44.507408, 66.847124]],\n",
       "\n",
       "       [[89.623644, 56.747475],\n",
       "        [68.636672, 31.399699],\n",
       "        [33.620769, 78.597823],\n",
       "        [77.802027, 91.828731],\n",
       "        [16.541729, 34.543897],\n",
       "        [90.789064, 34.741616]],\n",
       "\n",
       "       [[56.466278, 42.333847],\n",
       "        [32.2335  , 53.786563],\n",
       "        [86.155022, 84.786881],\n",
       "        [13.11149 , 99.193363],\n",
       "        [71.136679, 78.984528],\n",
       "        [15.45079 , 44.572794]],\n",
       "\n",
       "       [[52.995859, 95.298785],\n",
       "        [94.122363, 91.418777],\n",
       "        [38.712964, 73.107153],\n",
       "        [10.692837, 42.880481],\n",
       "        [33.953006, 98.797791],\n",
       "        [34.937361, 66.658908]],\n",
       "\n",
       "       [[24.985648, 76.247371],\n",
       "        [49.277027, 98.429524],\n",
       "        [76.260208, 30.987539],\n",
       "        [18.165961, 55.407063],\n",
       "        [54.457901, 14.507559],\n",
       "        [51.800125, 57.42359 ]],\n",
       "\n",
       "       [[47.087269, 37.568965],\n",
       "        [91.928874, 79.318409],\n",
       "        [57.677263, 58.357359],\n",
       "        [63.007896, 71.809543],\n",
       "        [92.243572, 26.049494],\n",
       "        [89.971499, 84.503559]]])"
      ]
     },
     "execution_count": 11,
     "metadata": {},
     "output_type": "execute_result"
    }
   ],
   "source": [
    "#Make the lambda matrix\n",
    "#LambdaMat[i,j,0] = Lambda_ij_C\n",
    "#LambdaMat[i,j,1] = Lambda_ij_N\n",
    "LambdaMat = numpy.zeros(shape=(nC,nN,2))\n",
    "counter = 0\n",
    "for i in range(nC):\n",
    "    for j in range(nN):\n",
    "        LambdaMat[i,j,0] = LambdaC[counter]\n",
    "        LambdaMat[i,j,1] = LambdaN[counter]\n",
    "        counter += 1\n",
    "LambdaMat"
   ]
  },
  {
   "cell_type": "code",
   "execution_count": 12,
   "metadata": {},
   "outputs": [],
   "source": [
    "#Obtain the Rank List of Species on each Nutrient\n",
    "#RankC[i] lists the N index of species according to their rank on C_i (high to low)\n",
    "#RankN[j] lists the C index of species according to their rank on N_j (high to low)\n",
    "#**remember that index starts from 0. So rank 0 is heighest.\n",
    "#RankC = np.zeros(shape=(nC,nN))\n",
    "RankC = np.empty([nC,nN+1], dtype=int)\n",
    "RankC[:,nN] = nN\n",
    "for i in range(nC):\n",
    "    for j in range(nN):\n",
    "        Temp = LambdaMat[i,:,0]\n",
    "        RankC[i,0:nN] = heapq.nlargest(nN, range(len(Temp)), key=Temp.__getitem__)\n",
    "\n",
    "RankN = np.empty([nN,nC+1], dtype=int)\n",
    "RankN[:,nC] = nC\n",
    "#RankN = np.zeros(shape=(nC,nN))\n",
    "for j in range(nN):\n",
    "    for i in range(nC):\n",
    "        Temp = LambdaMat[:,j,1]\n",
    "        RankN[j,0:nC] = heapq.nlargest(nC, range(len(Temp)), key=Temp.__getitem__)"
   ]
  },
  {
   "cell_type": "code",
   "execution_count": 13,
   "metadata": {},
   "outputs": [
    {
     "name": "stdout",
     "output_type": "stream",
     "text": [
      "RankC\n",
      " [[2 1 4 3 0 5 6]\n",
      " [5 0 3 1 2 4 6]\n",
      " [2 4 0 1 5 3 6]\n",
      " [1 0 2 5 4 3 6]\n",
      " [2 4 5 1 0 3 6]\n",
      " [4 1 5 3 2 0 6]] \n",
      "RankN\n",
      " [[3 4 1 2 5 0 6]\n",
      " [4 3 5 0 2 1 6]\n",
      " [2 1 3 5 0 4 6]\n",
      " [2 1 5 4 3 0 6]\n",
      " [3 2 0 1 5 4 6]\n",
      " [5 0 3 4 2 1 6]]\n"
     ]
    }
   ],
   "source": [
    "print(\"RankC\\n\", RankC, \"\\nRankN\\n\", RankN)"
   ]
  },
  {
   "cell_type": "code",
   "execution_count": 14,
   "metadata": {
    "scrolled": true
   },
   "outputs": [],
   "source": [
    "#Choose the rank of the species allocated on C\n",
    "#and make a copy of the Rank Matrix\n",
    "ChoseRankC = np.empty([nC], dtype=int)#Choose the rank of the species allocated on C\n",
    "\n",
    "#This will give a sequence of numbers from 0 - nN\n",
    "JJ = np.arange(nN+1)\n",
    "\n",
    "#This will create a 2D matrix with ALL possible combinations of the numbers in JJ of size nC\n",
    "#Each time we will choose one row from this 2D matrix as the rank choice allocated on Carbon\n",
    "WWW = list(product(JJ,repeat = nC))\n",
    "\n",
    "NoOfUIS = 0\n",
    "States = []\n",
    "\n",
    "for Times in range(pow(nC+1,nN)):\n",
    "    for p in range(nC):\n",
    "        ChoseRankC[p] = WWW[Times][p] #Chose the rank choice on row number=Times\n",
    "    \n",
    "    #print(ChoseRankC)\n",
    "    TempRankC = np.copy(RankC)\n",
    "    TempRankN = np.copy(RankN)\n",
    "    Matrix = np.zeros([nC, nN], dtype = int) #This will be the matrix of states\n",
    "    \n",
    "    #554 means this one has been chosen on the C\n",
    "    for i in range(nC):\n",
    "        TempRankC[i,ChoseRankC[i]] = 554 #554 means this one has been chosen on the C\n",
    "        if(RankC[i,ChoseRankC[i]] < nN):\n",
    "            index = np.where(TempRankN[RankC[i,ChoseRankC[i]],:] == i)\n",
    "            TempRankN[RankC[i,ChoseRankC[i]],index] = 554\n",
    "            \n",
    "     #-1000 means this one can't use C (both as limiting or non-limiting)\n",
    "    for i in range(nC):\n",
    "        for k in range(ChoseRankC[i]+1,nC+1,1):\n",
    "            TempRankC[i,k] = -1000 #-1000 means this one can't use C (both as limiting or non-limiting)\n",
    "            if(RankC[i,k] < nN):\n",
    "                index = np.where(TempRankN[RankC[i,k],:] == i)\n",
    "                TempRankN[RankC[i,k],index] = -1000\n",
    "                \n",
    "    #If there is a 554 in any row of TempRankN then in that row check that:\n",
    "    #If there is any valid C index above the lowest ranked 554\n",
    "    #i.e., search for valid C index before the last 554 in TempRankN\n",
    "    UIS = 1\n",
    "    for i in range(nN):\n",
    "        if(UIS == 1):\n",
    "            #print(\"for\", i)\n",
    "            if(554 in TempRankN[i]):\n",
    "                item_index = np.where(TempRankN[i]==554)\n",
    "                #print(i, item_index)\n",
    "                Smallest554 = max(item_index[0])\n",
    "                #print(\"Smallest554\", Smallest554)\n",
    "                for j in range(nC):\n",
    "                    pos = np.where(TempRankN[i]==j)\n",
    "                    if(np.size(pos) > 0):\n",
    "                        aaa = max(pos[0])\n",
    "                        #print(pos, j, aaa)\n",
    "                        if(pos[0] < Smallest554):\n",
    "                            #print(\"No UIS\")\n",
    "                            UIS = 0\n",
    "    if(UIS == 1):\n",
    "        #print(\"There is a UIS here\")\n",
    "        \n",
    "        #Searching for Species limited by C\n",
    "        for i in range(nC):\n",
    "            pos=np.where(TempRankC[i,0:nN+1] == 554)\n",
    "            pos = max(pos)\n",
    "            #print(i,pos)\n",
    "            if(pos < nN):\n",
    "                #print(i,pos,RankC[i,pos])\n",
    "                Matrix[i,RankC[i,pos]] = -1\n",
    "        #print(\"Matrix\\n\",Matrix)\n",
    "    \n",
    "        #Searching for Species limited by N\n",
    "        for i in range(nN):\n",
    "            for j in range(nC):\n",
    "                if((TempRankN[i,j] != 554) and (TempRankN[i,j] != -1000)):\n",
    "                    #print(i,j,TempRankN[i,j])\n",
    "                    Matrix[TempRankN[i,j],i] = 1\n",
    "                    break\n",
    "                \n",
    "        G = np.zeros([nC*nN], dtype=int)\n",
    "        counter = 0\n",
    "        for i in range(nC):\n",
    "            for j in range(nN):\n",
    "                G[counter] = Matrix[i,j]\n",
    "                counter += 1\n",
    "        #print(\"UIS\", NoOfUIS+1, *G, sep=' ')\n",
    "        States.append(G)\n",
    "        NoOfUIS += 1"
   ]
  },
  {
   "cell_type": "code",
   "execution_count": 15,
   "metadata": {},
   "outputs": [],
   "source": [
    "np.savetxt(FileName, States, delimiter='\\t',  fmt = '%d')"
   ]
  },
  {
   "cell_type": "code",
   "execution_count": 16,
   "metadata": {},
   "outputs": [
    {
     "data": {
      "text/plain": [
       "1211"
      ]
     },
     "execution_count": 16,
     "metadata": {},
     "output_type": "execute_result"
    }
   ],
   "source": [
    "NoOfUIS"
   ]
  },
  {
   "cell_type": "code",
   "execution_count": 17,
   "metadata": {},
   "outputs": [
    {
     "data": {
      "text/plain": [
       "(1211, 36)"
      ]
     },
     "execution_count": 17,
     "metadata": {},
     "output_type": "execute_result"
    }
   ],
   "source": [
    "np.shape(States)"
   ]
  },
  {
   "cell_type": "code",
   "execution_count": null,
   "metadata": {},
   "outputs": [],
   "source": []
  }
 ],
 "metadata": {
  "kernelspec": {
   "display_name": "Python 3",
   "language": "python",
   "name": "python3"
  },
  "language_info": {
   "codemirror_mode": {
    "name": "ipython",
    "version": 3
   },
   "file_extension": ".py",
   "mimetype": "text/x-python",
   "name": "python",
   "nbconvert_exporter": "python",
   "pygments_lexer": "ipython3",
   "version": "3.5.2"
  }
 },
 "nbformat": 4,
 "nbformat_minor": 2
}
